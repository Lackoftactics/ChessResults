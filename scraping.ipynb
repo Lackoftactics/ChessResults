{
 "cells": [
  {
   "cell_type": "markdown",
   "metadata": {},
   "source": []
  },
  {
   "cell_type": "markdown",
   "metadata": {},
   "source": [
    "# Tworzenie listy turniejów\n",
    "\n",
    "- Kilka trików z paginowaniem skomplikowanej strony z paginacją opartą na zakresach dat\n",
    "- headless driver\n",
    "- nie uzyłem tutaj soup strainer'a ani workerów, gorszy parser, przy kolejnych etapach korzystałem z lxml i async'ów dla najwyzszej wydajnosci\n",
    "- checkpointy dla roznych krajów, aby nie zaczynać od nowa przy błędach\n",
    "\n",
    "\n",
    "## Ouput:\n",
    "  - 'chess_torunaments_selenium.csv'\n",
    "  - data/countries/<ISO>_tournaments_selenium.csv"
   ]
  },
  {
   "cell_type": "code",
   "execution_count": 1,
   "metadata": {},
   "outputs": [
    {
     "name": "stdout",
     "output_type": "stream",
     "text": [
      "Processing country: AFG\n",
      "Saved 186 tournaments for AFG\n",
      "Processing country: ALA\n",
      "Processing country: ALB\n"
     ]
    },
    {
     "ename": "KeyboardInterrupt",
     "evalue": "",
     "output_type": "error",
     "traceback": [
      "\u001b[0;31m---------------------------------------------------------------------------\u001b[0m",
      "\u001b[0;31mKeyboardInterrupt\u001b[0m                         Traceback (most recent call last)",
      "Cell \u001b[0;32mIn[1], line 4\u001b[0m\n\u001b[1;32m      1\u001b[0m \u001b[38;5;28;01mfrom\u001b[39;00m \u001b[38;5;21;01mchess_tournament_selenium_scraper\u001b[39;00m \u001b[38;5;28;01mimport\u001b[39;00m ChessTournamentSeleniumScraper\n\u001b[1;32m      3\u001b[0m scraper \u001b[38;5;241m=\u001b[39m ChessTournamentSeleniumScraper()\n\u001b[0;32m----> 4\u001b[0m df \u001b[38;5;241m=\u001b[39m \u001b[43mscraper\u001b[49m\u001b[38;5;241;43m.\u001b[39;49m\u001b[43mcrawl_all_tournaments\u001b[49m\u001b[43m(\u001b[49m\u001b[43m)\u001b[49m\n\u001b[1;32m      5\u001b[0m df\u001b[38;5;241m.\u001b[39mto_csv(\u001b[38;5;124m\"\u001b[39m\u001b[38;5;124mchess_tournaments_selenium.csv\u001b[39m\u001b[38;5;124m\"\u001b[39m, index\u001b[38;5;241m=\u001b[39m\u001b[38;5;28;01mFalse\u001b[39;00m)\n\u001b[1;32m      6\u001b[0m \u001b[38;5;28mprint\u001b[39m(\u001b[38;5;124mf\u001b[39m\u001b[38;5;124m\"\u001b[39m\u001b[38;5;124mSaved \u001b[39m\u001b[38;5;132;01m{\u001b[39;00m\u001b[38;5;28mlen\u001b[39m(df)\u001b[38;5;132;01m}\u001b[39;00m\u001b[38;5;124m tournaments to chess_tournaments_selenium.csv\u001b[39m\u001b[38;5;124m\"\u001b[39m)\n",
      "File \u001b[0;32m~/Projects/studia/PAD/projekt final/chess_tournament_selenium_scraper.py:248\u001b[0m, in \u001b[0;36mChessTournamentSeleniumScraper.crawl_all_tournaments\u001b[0;34m(self)\u001b[0m\n\u001b[1;32m    245\u001b[0m country_tournaments \u001b[38;5;241m=\u001b[39m []\n\u001b[1;32m    247\u001b[0m \u001b[38;5;28;01mwhile\u001b[39;00m \u001b[38;5;28;01mTrue\u001b[39;00m:\n\u001b[0;32m--> 248\u001b[0m     response \u001b[38;5;241m=\u001b[39m \u001b[38;5;28;43mself\u001b[39;49m\u001b[38;5;241;43m.\u001b[39;49m\u001b[43mfetch_data\u001b[49m\u001b[43m(\u001b[49m\u001b[43mcurrent_start_date\u001b[49m\u001b[43m,\u001b[49m\u001b[43m \u001b[49m\u001b[43mcurrent_end_date\u001b[49m\u001b[43m,\u001b[49m\u001b[43m \u001b[49m\u001b[43mcountry\u001b[49m\u001b[43m)\u001b[49m\n\u001b[1;32m    249\u001b[0m     country_tournaments\u001b[38;5;241m.\u001b[39mextend(response)\n\u001b[1;32m    250\u001b[0m     all_tournaments\u001b[38;5;241m.\u001b[39mextend(response)\n",
      "File \u001b[0;32m~/Projects/studia/PAD/projekt final/chess_tournament_selenium_scraper.py:225\u001b[0m, in \u001b[0;36mChessTournamentSeleniumScraper.fetch_data\u001b[0;34m(self, start_date, end_date, country)\u001b[0m\n\u001b[1;32m    221\u001b[0m \u001b[38;5;28;01mdef\u001b[39;00m \u001b[38;5;21mfetch_data\u001b[39m(\u001b[38;5;28mself\u001b[39m, start_date, end_date, country):\n\u001b[1;32m    222\u001b[0m \u001b[38;5;250m    \u001b[39m\u001b[38;5;124;03m\"\"\"\u001b[39;00m\n\u001b[1;32m    223\u001b[0m \u001b[38;5;124;03m    Simple wrapper for fetch_tournaments, if you need extra logic in the future.\u001b[39;00m\n\u001b[1;32m    224\u001b[0m \u001b[38;5;124;03m    \"\"\"\u001b[39;00m\n\u001b[0;32m--> 225\u001b[0m     \u001b[38;5;28;01mreturn\u001b[39;00m \u001b[38;5;28;43mself\u001b[39;49m\u001b[38;5;241;43m.\u001b[39;49m\u001b[43mfetch_tournaments\u001b[49m\u001b[43m(\u001b[49m\u001b[43mstart_date\u001b[49m\u001b[43m,\u001b[49m\u001b[43m \u001b[49m\u001b[43mend_date\u001b[49m\u001b[43m,\u001b[49m\u001b[43m \u001b[49m\u001b[43mcountry\u001b[49m\u001b[43m)\u001b[49m\n",
      "File \u001b[0;32m~/Projects/studia/PAD/projekt final/chess_tournament_selenium_scraper.py:214\u001b[0m, in \u001b[0;36mChessTournamentSeleniumScraper.fetch_tournaments\u001b[0;34m(self, start_date, end_date, country)\u001b[0m\n\u001b[1;32m    209\u001b[0m     \u001b[38;5;66;03m# Wait for results to load\u001b[39;00m\n\u001b[1;32m    210\u001b[0m     WebDriverWait(driver, \u001b[38;5;241m5\u001b[39m)\u001b[38;5;241m.\u001b[39muntil(\n\u001b[1;32m    211\u001b[0m         EC\u001b[38;5;241m.\u001b[39mpresence_of_element_located((By\u001b[38;5;241m.\u001b[39mID, \u001b[38;5;124m\"\u001b[39m\u001b[38;5;124mP1_cb_suchen\u001b[39m\u001b[38;5;124m\"\u001b[39m))\n\u001b[1;32m    212\u001b[0m     )\n\u001b[0;32m--> 214\u001b[0m     \u001b[43mtime\u001b[49m\u001b[38;5;241;43m.\u001b[39;49m\u001b[43msleep\u001b[49m\u001b[43m(\u001b[49m\u001b[38;5;241;43m1\u001b[39;49m\u001b[43m)\u001b[49m  \u001b[38;5;66;03m# Extra buffer\u001b[39;00m\n\u001b[1;32m    215\u001b[0m     \u001b[38;5;28;01mreturn\u001b[39;00m \u001b[38;5;28mself\u001b[39m\u001b[38;5;241m.\u001b[39mparse_tournaments(driver\u001b[38;5;241m.\u001b[39mpage_source)\n\u001b[1;32m    217\u001b[0m \u001b[38;5;28;01mexcept\u001b[39;00m \u001b[38;5;167;01mException\u001b[39;00m \u001b[38;5;28;01mas\u001b[39;00m e:\n",
      "\u001b[0;31mKeyboardInterrupt\u001b[0m: "
     ]
    }
   ],
   "source": [
    "from chess_tournament_selenium_scraper import ChessTournamentSeleniumScraper\n",
    "\n",
    "scraper = ChessTournamentSeleniumScraper()\n",
    "df = scraper.crawl_all_tournaments()\n",
    "df.to_csv(\"chess_tournaments_selenium.csv\", index=False)\n",
    "print(f\"Saved {len(df)} tournaments to chess_tournaments_selenium.csv\")"
   ]
  },
  {
   "cell_type": "markdown",
   "metadata": {},
   "source": [
    "Sprawdzamy ile mamy turniejów po pierwszym scrapingu"
   ]
  },
  {
   "cell_type": "code",
   "execution_count": 3,
   "metadata": {},
   "outputs": [
    {
     "ename": "NameError",
     "evalue": "name 'pd' is not defined",
     "output_type": "error",
     "traceback": [
      "\u001b[0;31m---------------------------------------------------------------------------\u001b[0m",
      "\u001b[0;31mNameError\u001b[0m                                 Traceback (most recent call last)",
      "Cell \u001b[0;32mIn[3], line 1\u001b[0m\n\u001b[0;32m----> 1\u001b[0m df \u001b[38;5;241m=\u001b[39m \u001b[43mpd\u001b[49m\u001b[38;5;241m.\u001b[39mread_csv(\u001b[38;5;124m\"\u001b[39m\u001b[38;5;124mdata/chess_tournaments_selenium.csv\u001b[39m\u001b[38;5;124m\"\u001b[39m)\n\u001b[1;32m      2\u001b[0m df\u001b[38;5;241m.\u001b[39mhead()\n\u001b[1;32m      4\u001b[0m df[\u001b[38;5;124m\"\u001b[39m\u001b[38;5;124mcountry\u001b[39m\u001b[38;5;124m\"\u001b[39m]\u001b[38;5;241m.\u001b[39mvalue_counts()\u001b[38;5;241m.\u001b[39mhead(\u001b[38;5;241m10\u001b[39m)\u001b[38;5;241m.\u001b[39mapply(\u001b[38;5;28;01mlambda\u001b[39;00m x: \u001b[38;5;124m\"\u001b[39m\u001b[38;5;132;01m{:,}\u001b[39;00m\u001b[38;5;124m\"\u001b[39m\u001b[38;5;241m.\u001b[39mformat(x))\n",
      "\u001b[0;31mNameError\u001b[0m: name 'pd' is not defined"
     ]
    }
   ],
   "source": [
    "import pandas as pd\n",
    "\n",
    "df = pd.read_csv(\"data/chess_tournaments_selenium.csv\")\n",
    "df.head()\n",
    "\n",
    "df[\"country\"].value_counts().head(10).apply(lambda x: \"{:,}\".format(x))"
   ]
  },
  {
   "cell_type": "markdown",
   "metadata": {},
   "source": [
    "# Tworzenie list startowych\n",
    "- async\n",
    "- tworzenie struktur kolumnowych, rózne turnieje rozne struktury danych\n",
    "- SoupStrainer\n",
    "- checkpointy\n",
    "\n",
    "## Output:\n",
    "- data/start_lists/<ISO_CODE>_start_list.csv"
   ]
  },
  {
   "cell_type": "code",
   "execution_count": 1,
   "metadata": {},
   "outputs": [
    {
     "name": "stdout",
     "output_type": "stream",
     "text": [
      "Skipping ---\n",
      "Skipping ACF\n",
      "Skipping AFG\n",
      "Skipping AHO\n",
      "Skipping ALB\n",
      "Skipping ALG\n",
      "Skipping AND\n",
      "Skipping ANG\n",
      "Skipping ANT\n",
      "Skipping ARG\n",
      "Skipping ARM\n",
      "Skipping ARU\n",
      "Skipping AUS\n",
      "Skipping AUT\n",
      "Skipping AZE\n",
      "Skipping BAH\n",
      "Skipping BAN\n",
      "Skipping BAR\n",
      "Skipping BDI\n",
      "Skipping BEL\n",
      "Skipping BEN\n",
      "Skipping BER\n",
      "Skipping BHU\n",
      "Skipping BIH\n",
      "Skipping BIZ\n",
      "Skipping BLR\n",
      "Skipping BOL\n",
      "Skipping BOT\n",
      "Skipping BRA\n",
      "Skipping BRN\n",
      "Skipping BRU\n",
      "Skipping BUL\n",
      "Skipping BUR\n",
      "Skipping CAF\n",
      "Skipping CAM\n",
      "Skipping CAN\n",
      "Skipping CAT\n",
      "Skipping CAY\n",
      "Skipping CCA\n",
      "Skipping CHA\n",
      "Skipping CHI\n",
      "Skipping CHN\n",
      "Skipping CIV\n",
      "Skipping CMR\n",
      "Skipping COD\n",
      "Skipping COL\n",
      "Skipping CPV\n",
      "Skipping CRC\n",
      "Skipping CRO\n",
      "Skipping CUB\n",
      "Skipping CYP\n",
      "Skipping CZE\n",
      "Skipping DEN\n",
      "Skipping DJI\n",
      "Skipping DOM\n",
      "Skipping ECU\n",
      "Skipping EGY\n",
      "Skipping ENG\n",
      "Skipping ESA\n",
      "Skipping ESP\n",
      "Skipping EST\n",
      "Skipping ETH\n",
      "Skipping FAI\n",
      "Skipping FID\n",
      "Skipping FIJ\n",
      "Skipping FIN\n",
      "Skipping FRA\n",
      "Skipping GAB\n",
      "Skipping GAM\n",
      "Skipping GCI\n",
      "Skipping GEO\n",
      "Skipping GEQ\n",
      "Skipping GER\n",
      "Skipping GHA\n",
      "Skipping GRE\n",
      "Skipping GRN\n",
      "Skipping GUA\n",
      "Skipping GUM\n",
      "Skipping GUY\n",
      "Skipping Ger\n",
      "Skipping HAI\n",
      "Skipping HKG\n",
      "Skipping HON\n",
      "Skipping HUN\n",
      "Skipping INA\n",
      "Skipping IND\n",
      "Skipping IOM\n",
      "Skipping IRI\n",
      "Skipping IRL\n",
      "Skipping IRQ\n",
      "Skipping ISL\n",
      "Skipping ISR\n",
      "Skipping ISV\n",
      "Skipping ITA\n",
      "Skipping IVB\n",
      "Skipping JAM\n",
      "Skipping JCI\n",
      "Skipping JOR\n",
      "Skipping JPN\n",
      "Skipping KAZ\n",
      "Skipping KEN\n",
      "Skipping KGZ\n",
      "Skipping KOR\n",
      "Skipping KOS\n",
      "Skipping KSA\n",
      "Skipping KUW\n",
      "Skipping LAO\n",
      "Skipping LAT\n",
      "Skipping LBA\n",
      "Skipping LBN\n",
      "Skipping LBR\n",
      "Skipping LCA\n",
      "Skipping LES\n",
      "Skipping LIE\n",
      "Skipping LTU\n",
      "Skipping LUX\n",
      "Skipping MAC\n",
      "Skipping MAD\n",
      "Skipping MAR\n",
      "Skipping MAS\n",
      "Skipping MAW\n",
      "Skipping MDA\n",
      "Skipping MDV\n",
      "Skipping MEX\n",
      "Skipping MGL\n",
      "Skipping MKD\n",
      "Skipping MLI\n",
      "Skipping MLT\n",
      "Skipping MNC\n",
      "Skipping MNE\n",
      "Skipping MOZ\n",
      "Skipping MRI\n",
      "Skipping MTN\n",
      "Skipping MYA\n",
      "Skipping NAM\n",
      "Skipping NCA\n",
      "Skipping NED\n",
      "Skipping NEP\n",
      "Skipping NGR\n",
      "Skipping NIG\n",
      "Skipping NOR\n",
      "Skipping NRU\n",
      "Skipping NZL\n",
      "Skipping OMA\n",
      "Skipping ONL\n",
      "Skipping PAK\n",
      "Skipping PAN\n",
      "Skipping PAR\n",
      "Skipping PER\n",
      "Skipping PHI\n",
      "Skipping PLE\n",
      "Skipping PLW\n",
      "Skipping POL\n",
      "Skipping POR\n",
      "Skipping PUR\n",
      "Skipping QAT\n",
      "Skipping ROU\n",
      "Skipping RSA\n",
      "Skipping RUS\n",
      "Skipping RWA\n",
      "Skipping SCG\n",
      "Skipping SCO\n",
      "Skipping SEN\n",
      "Skipping SEY\n",
      "Skipping SGP\n",
      "Skipping SLE\n",
      "Skipping SLO\n",
      "Skipping SMR\n",
      "Skipping SOL\n",
      "Skipping SOM\n",
      "Skipping SRB\n",
      "Skipping SRI\n",
      "Skipping SSD\n",
      "Skipping STP\n",
      "Skipping SUD\n",
      "Skipping SUI\n",
      "Skipping SUR\n",
      "Skipping SVK\n",
      "Skipping SWE\n",
      "Skipping SWZ\n",
      "Skipping SYR\n",
      "Skipping TAN\n",
      "Skipping THA\n",
      "Skipping TJK\n",
      "Skipping TKM\n",
      "Skipping TLS\n",
      "Skipping TOG\n",
      "Skipping TPE\n",
      "Skipping TTO\n",
      "Skipping TUN\n",
      "Skipping TUR\n",
      "Skipping UAE\n",
      "Skipping UGA\n",
      "Skipping UKR\n",
      "Skipping URU\n",
      "Skipping USA\n",
      "Skipping UZB\n",
      "Skipping VAN\n",
      "Skipping VEN\n",
      "Skipping VIE\n",
      "Skipping VIN\n",
      "Skipping WLS\n",
      "Skipping XXX\n",
      "Skipping YEM\n",
      "Skipping ZAM\n",
      "Skipping ZIM\n",
      "Skipping ZZZ\n",
      "Skipping ger\n",
      "All done!\n"
     ]
    }
   ],
   "source": [
    "from chess_start_list_scraper import ChessStartListScraper\n",
    "\n",
    "scraper = ChessStartListScraper()\n",
    "await scraper.run_main()"
   ]
  },
  {
   "cell_type": "markdown",
   "metadata": {},
   "source": [
    "# Ściągamy rezultaty turniejów\n",
    "- Tworzymy strukture kolumnową \n",
    "- async\n",
    "\n",
    "## Output:\n",
    "- data/results/<ISO_CODE>_results.csv"
   ]
  },
  {
   "cell_type": "code",
   "execution_count": 5,
   "metadata": {},
   "outputs": [
    {
     "name": "stdout",
     "output_type": "stream",
     "text": [
      "Skipping ---\n",
      "Skipping ACF\n",
      "Skipping AFG\n",
      "Skipping AHO\n",
      "Skipping ALB\n",
      "Skipping ALG\n",
      "Skipping AND\n",
      "Skipping ANG\n",
      "Skipping ANT\n",
      "Skipping ARG\n",
      "Skipping ARM\n",
      "Skipping ARU\n",
      "Skipping AUS\n",
      "Skipping AUT\n",
      "Skipping AZE\n",
      "Skipping BAH\n",
      "Skipping BAN\n",
      "Skipping BAR\n",
      "Skipping BDI\n",
      "Skipping BEL\n",
      "Skipping BEN\n",
      "Skipping BER\n",
      "Skipping BHU\n",
      "Skipping BIH\n",
      "Skipping BIZ\n",
      "Skipping BLR\n",
      "Skipping BOL\n",
      "Skipping BOT\n",
      "Skipping BRA\n",
      "Skipping BRN\n",
      "Skipping BRU\n",
      "Skipping BUL\n",
      "Skipping BUR\n",
      "Skipping CAF\n",
      "Skipping CAM\n",
      "Skipping CAN\n",
      "Skipping CAT\n",
      "Skipping CAY\n",
      "Skipping CCA\n",
      "Skipping CHA\n",
      "Skipping CHI\n",
      "Skipping CHN\n",
      "Skipping CIV\n",
      "Skipping CMR\n",
      "Skipping COD\n",
      "Skipping COL\n",
      "Skipping CPV\n",
      "Skipping CRC\n",
      "Skipping CRO\n",
      "Skipping CUB\n",
      "Skipping CYP\n",
      "Skipping CZE\n",
      "Skipping DEN\n",
      "Skipping DJI\n",
      "Skipping DOM\n",
      "Skipping ECU\n",
      "Skipping EGY\n",
      "Skipping ENG\n",
      "Skipping ESA\n",
      "Skipping ESP\n",
      "Skipping EST\n",
      "Skipping ETH\n",
      "Skipping FAI\n",
      "Skipping FID\n",
      "Skipping FIJ\n",
      "Skipping FIN\n",
      "Skipping FRA\n",
      "Skipping GAB\n",
      "Skipping GAM\n",
      "Skipping GCI\n",
      "Skipping GEO\n",
      "Skipping GEQ\n",
      "Skipping GER\n",
      "Skipping GHA\n",
      "Processing GRE\n"
     ]
    },
    {
     "name": "stderr",
     "output_type": "stream",
     "text": [
      "/Users/przemyslawmroczek/Projects/studia/PAD/projekt final/chess_results_scraper.py:159: DtypeWarning: Columns (0,2,30,31,32,33,34,35,36,37,38,39,40,41,42,43,44,45,46) have mixed types. Specify dtype option on import or set low_memory=False.\n",
      "  start_list = pd.read_csv(start_list_file)\n"
     ]
    },
    {
     "ename": "CancelledError",
     "evalue": "",
     "output_type": "error",
     "traceback": [
      "\u001b[0;31m---------------------------------------------------------------------------\u001b[0m",
      "\u001b[0;31mCancelledError\u001b[0m                            Traceback (most recent call last)",
      "Cell \u001b[0;32mIn[5], line 7\u001b[0m\n\u001b[1;32m      4\u001b[0m scraper \u001b[38;5;241m=\u001b[39m ChessResultsScraper(data_path\u001b[38;5;241m=\u001b[39m\u001b[38;5;124m\"\u001b[39m\u001b[38;5;124mdata\u001b[39m\u001b[38;5;124m\"\u001b[39m)\n\u001b[1;32m      6\u001b[0m \u001b[38;5;66;03m# Run the scraper\u001b[39;00m\n\u001b[0;32m----> 7\u001b[0m \u001b[38;5;28;01mawait\u001b[39;00m scraper\u001b[38;5;241m.\u001b[39mrun_main()\n",
      "File \u001b[0;32m~/Projects/studia/PAD/projekt final/chess_results_scraper.py:165\u001b[0m, in \u001b[0;36mChessResultsScraper.run_main\u001b[0;34m(self)\u001b[0m\n\u001b[1;32m    162\u001b[0m tournament_urls \u001b[38;5;241m=\u001b[39m start_list[\u001b[38;5;124m'\u001b[39m\u001b[38;5;124mtournament_url\u001b[39m\u001b[38;5;124m'\u001b[39m]\u001b[38;5;241m.\u001b[39munique()\n\u001b[1;32m    164\u001b[0m \u001b[38;5;66;03m# Process tournaments\u001b[39;00m\n\u001b[0;32m--> 165\u001b[0m combined_df \u001b[38;5;241m=\u001b[39m \u001b[38;5;28;01mawait\u001b[39;00m \u001b[38;5;28mself\u001b[39m\u001b[38;5;241m.\u001b[39mprocess_tournaments_async(tournament_urls)\n\u001b[1;32m    167\u001b[0m \u001b[38;5;66;03m# Save to CSV\u001b[39;00m\n\u001b[1;32m    168\u001b[0m combined_df\u001b[38;5;241m.\u001b[39mto_csv(output_file, index\u001b[38;5;241m=\u001b[39m\u001b[38;5;28;01mFalse\u001b[39;00m)\n",
      "File \u001b[0;32m~/Projects/studia/PAD/projekt final/chess_results_scraper.py:123\u001b[0m, in \u001b[0;36mChessResultsScraper.process_tournaments_async\u001b[0;34m(self, tournament_urls, max_concurrency)\u001b[0m\n\u001b[1;32m    120\u001b[0m             \u001b[38;5;28;01mreturn\u001b[39;00m \u001b[38;5;28;01mawait\u001b[39;00m \u001b[38;5;28mself\u001b[39m\u001b[38;5;241m.\u001b[39mfetch_tournament_results(session, url)\n\u001b[1;32m    122\u001b[0m     tasks \u001b[38;5;241m=\u001b[39m [asyncio\u001b[38;5;241m.\u001b[39mcreate_task(fetch_with_limit(u)) \u001b[38;5;28;01mfor\u001b[39;00m u \u001b[38;5;129;01min\u001b[39;00m tournament_urls]\n\u001b[0;32m--> 123\u001b[0m     results \u001b[38;5;241m=\u001b[39m \u001b[38;5;28;01mawait\u001b[39;00m asyncio\u001b[38;5;241m.\u001b[39mgather(\u001b[38;5;241m*\u001b[39mtasks, return_exceptions\u001b[38;5;241m=\u001b[39m\u001b[38;5;28;01mTrue\u001b[39;00m)\n\u001b[1;32m    125\u001b[0m \u001b[38;5;28;01mfor\u001b[39;00m res \u001b[38;5;129;01min\u001b[39;00m results:\n\u001b[1;32m    126\u001b[0m     \u001b[38;5;28;01mif\u001b[39;00m \u001b[38;5;28misinstance\u001b[39m(res, pd\u001b[38;5;241m.\u001b[39mDataFrame):\n",
      "File \u001b[0;32m~/Projects/studia/PAD/projekt final/chess_results_scraper.py:119\u001b[0m, in \u001b[0;36mChessResultsScraper.process_tournaments_async.<locals>.fetch_with_limit\u001b[0;34m(url)\u001b[0m\n\u001b[1;32m    118\u001b[0m \u001b[38;5;28;01masync\u001b[39;00m \u001b[38;5;28;01mdef\u001b[39;00m \u001b[38;5;21mfetch_with_limit\u001b[39m(url):\n\u001b[0;32m--> 119\u001b[0m     \u001b[38;5;28;01masync\u001b[39;00m \u001b[38;5;28;01mwith\u001b[39;00m semaphore:\n\u001b[1;32m    120\u001b[0m         \u001b[38;5;28;01mreturn\u001b[39;00m \u001b[38;5;28;01mawait\u001b[39;00m \u001b[38;5;28mself\u001b[39m\u001b[38;5;241m.\u001b[39mfetch_tournament_results(session, url)\n",
      "File \u001b[0;32m/opt/homebrew/Cellar/python@3.11/3.11.11/Frameworks/Python.framework/Versions/3.11/lib/python3.11/asyncio/locks.py:15\u001b[0m, in \u001b[0;36m_ContextManagerMixin.__aenter__\u001b[0;34m(self)\u001b[0m\n\u001b[1;32m     14\u001b[0m \u001b[38;5;28;01masync\u001b[39;00m \u001b[38;5;28;01mdef\u001b[39;00m \u001b[38;5;21m__aenter__\u001b[39m(\u001b[38;5;28mself\u001b[39m):\n\u001b[0;32m---> 15\u001b[0m     \u001b[38;5;28;01mawait\u001b[39;00m \u001b[38;5;28mself\u001b[39m\u001b[38;5;241m.\u001b[39macquire()\n\u001b[1;32m     16\u001b[0m     \u001b[38;5;66;03m# We have no use for the \"as ...\"  clause in the with\u001b[39;00m\n\u001b[1;32m     17\u001b[0m     \u001b[38;5;66;03m# statement for locks.\u001b[39;00m\n\u001b[1;32m     18\u001b[0m     \u001b[38;5;28;01mreturn\u001b[39;00m \u001b[38;5;28;01mNone\u001b[39;00m\n",
      "File \u001b[0;32m/opt/homebrew/Cellar/python@3.11/3.11.11/Frameworks/Python.framework/Versions/3.11/lib/python3.11/asyncio/locks.py:387\u001b[0m, in \u001b[0;36mSemaphore.acquire\u001b[0;34m(self)\u001b[0m\n\u001b[1;32m    385\u001b[0m \u001b[38;5;28;01mtry\u001b[39;00m:\n\u001b[1;32m    386\u001b[0m     \u001b[38;5;28;01mtry\u001b[39;00m:\n\u001b[0;32m--> 387\u001b[0m         \u001b[38;5;28;01mawait\u001b[39;00m fut\n\u001b[1;32m    388\u001b[0m     \u001b[38;5;28;01mfinally\u001b[39;00m:\n\u001b[1;32m    389\u001b[0m         \u001b[38;5;28mself\u001b[39m\u001b[38;5;241m.\u001b[39m_waiters\u001b[38;5;241m.\u001b[39mremove(fut)\n",
      "\u001b[0;31mCancelledError\u001b[0m: "
     ]
    }
   ],
   "source": [
    "from chess_results_scraper import ChessResultsScraper\n",
    "\n",
    "# Create scraper instance\n",
    "scraper = ChessResultsScraper(data_path=\"data\")\n",
    "\n",
    "# Run the scraper\n",
    "await scraper.run_main()"
   ]
  },
  {
   "cell_type": "markdown",
   "metadata": {},
   "source": [
    "# Generator gier na podstawie rezultatów\n",
    "- Wyniki turniejów jako najbardziej optymalna forma wyciągania gier. W pierwszej chwili chcialem ściągać runda po rundzie, ale wyniki jako tabela według listy startowej jest najbardziej optymalne, poniewa tutaj juz sa zaszyte dane na jednej stronie zamiast od 5 do 13 razy więcej requestów\n",
    "- System szwajcarski, więc wystarczy patrzeć, czy numer startowy przeciwnika jest większy niz obecnie parsowanego. Zapobiega to dublowaniu gier, co wpłynęłoby na dalszą analizę."
   ]
  },
  {
   "cell_type": "code",
   "execution_count": 6,
   "metadata": {},
   "outputs": [
    {
     "name": "stdout",
     "output_type": "stream",
     "text": [
      "Converting results for EST...\n"
     ]
    },
    {
     "name": "stderr",
     "output_type": "stream",
     "text": [
      "/Users/przemyslawmroczek/Projects/studia/PAD/projekt final/results_converter.py:55: DtypeWarning: Columns (25,46,47,48,49,50,51,58,59,60,61,62,63,64) have mixed types. Specify dtype option on import or set low_memory=False.\n",
      "  df = pd.read_csv(file_path)\n"
     ]
    },
    {
     "name": "stdout",
     "output_type": "stream",
     "text": [
      "Loaded 55465 rows from data/results/EST_results.csv\n",
      "Saved 191587 games to data/games2/EST_games.csv\n",
      "Converting results for ALB...\n",
      "Loaded 2591 rows from data/results/ALB_results.csv\n",
      "Saved 10031 games to data/games2/ALB_games.csv\n",
      "Converting results for ARG...\n"
     ]
    },
    {
     "name": "stderr",
     "output_type": "stream",
     "text": [
      "/Users/przemyslawmroczek/Projects/studia/PAD/projekt final/results_converter.py:55: DtypeWarning: Columns (21,22,23,24,25,26,27,28,29,30,31,32,33,34) have mixed types. Specify dtype option on import or set low_memory=False.\n",
      "  df = pd.read_csv(file_path)\n"
     ]
    },
    {
     "name": "stdout",
     "output_type": "stream",
     "text": [
      "Loaded 312582 rows from data/results/ARG_results.csv\n",
      "Saved 921373 games to data/games2/ARG_games.csv\n",
      "Converting results for ACF...\n",
      "Loaded 8420 rows from data/results/ACF_results.csv\n",
      "Saved 33483 games to data/games2/ACF_games.csv\n",
      "Converting results for BOL...\n"
     ]
    },
    {
     "name": "stderr",
     "output_type": "stream",
     "text": [
      "/Users/przemyslawmroczek/Projects/studia/PAD/projekt final/results_converter.py:55: DtypeWarning: Columns (14,19,20,21,24,36,37,38,39,40,41,42,43,44,49,50,51,52,53,54,55,56,57,58) have mixed types. Specify dtype option on import or set low_memory=False.\n",
      "  df = pd.read_csv(file_path)\n"
     ]
    },
    {
     "name": "stdout",
     "output_type": "stream",
     "text": [
      "Loaded 71650 rows from data/results/BOL_results.csv\n",
      "Saved 223028 games to data/games2/BOL_games.csv\n",
      "Converting results for BAR...\n",
      "Loaded 2490 rows from data/results/BAR_results.csv\n",
      "Saved 6845 games to data/games2/BAR_games.csv\n",
      "Converting results for DJI...\n",
      "Loaded 374 rows from data/results/DJI_results.csv\n",
      "Saved 1267 games to data/games2/DJI_games.csv\n",
      "Converting results for CYP...\n",
      "Loaded 10733 rows from data/results/CYP_results.csv\n",
      "Saved 31392 games to data/games2/CYP_games.csv\n",
      "Converting results for BAH...\n",
      "Loaded 761 rows from data/results/BAH_results.csv\n",
      "Saved 1756 games to data/games2/BAH_games.csv\n",
      "Converting results for AUT...\n"
     ]
    },
    {
     "name": "stderr",
     "output_type": "stream",
     "text": [
      "/Users/przemyslawmroczek/Projects/studia/PAD/projekt final/results_converter.py:55: DtypeWarning: Columns (22,23,24,25,26,27,28,29,30,31,32) have mixed types. Specify dtype option on import or set low_memory=False.\n",
      "  df = pd.read_csv(file_path)\n"
     ]
    },
    {
     "name": "stdout",
     "output_type": "stream",
     "text": [
      "Loaded 265011 rows from data/results/AUT_results.csv\n",
      "Saved 948270 games to data/games2/AUT_games.csv\n",
      "Converting results for CAY...\n",
      "Loaded 575 rows from data/results/CAY_results.csv\n",
      "Saved 1422 games to data/games2/CAY_games.csv\n",
      "Converting results for BIZ...\n",
      "Loaded 9 rows from data/results/BIZ_results.csv\n",
      "Skipping BIZ, no ratings found.\n",
      "Converting results for BRN...\n",
      "Loaded 20083 rows from data/results/BRN_results.csv\n"
     ]
    },
    {
     "name": "stderr",
     "output_type": "stream",
     "text": [
      "/Users/przemyslawmroczek/Projects/studia/PAD/projekt final/results_converter.py:55: DtypeWarning: Columns (22,23,34,35) have mixed types. Specify dtype option on import or set low_memory=False.\n",
      "  df = pd.read_csv(file_path)\n"
     ]
    },
    {
     "name": "stdout",
     "output_type": "stream",
     "text": [
      "Saved 60785 games to data/games2/BRN_games.csv\n",
      "Converting results for CAF...\n",
      "Loaded 67 rows from data/results/CAF_results.csv\n",
      "Skipping CAF, no ratings found.\n",
      "Converting results for CHN...\n"
     ]
    },
    {
     "name": "stderr",
     "output_type": "stream",
     "text": [
      "/Users/przemyslawmroczek/Projects/studia/PAD/projekt final/results_converter.py:55: DtypeWarning: Columns (17,29,30,31,32,33,36,38,39,41,42,43,44,45,46,47,48,49,50,51,52,53,54,55,56) have mixed types. Specify dtype option on import or set low_memory=False.\n",
      "  df = pd.read_csv(file_path)\n"
     ]
    },
    {
     "name": "stdout",
     "output_type": "stream",
     "text": [
      "Loaded 425675 rows from data/results/CHN_results.csv\n",
      "Saved 1541222 games to data/games2/CHN_games.csv\n",
      "Converting results for ALG...\n"
     ]
    },
    {
     "name": "stderr",
     "output_type": "stream",
     "text": [
      "/Users/przemyslawmroczek/Projects/studia/PAD/projekt final/results_converter.py:55: DtypeWarning: Columns (20,21,25,26,27) have mixed types. Specify dtype option on import or set low_memory=False.\n",
      "  df = pd.read_csv(file_path)\n"
     ]
    },
    {
     "name": "stdout",
     "output_type": "stream",
     "text": [
      "Loaded 50897 rows from data/results/ALG_results.csv\n",
      "Saved 180482 games to data/games2/ALG_games.csv\n",
      "Converting results for ECU...\n",
      "Loaded 64402 rows from data/results/ECU_results.csv\n"
     ]
    },
    {
     "name": "stderr",
     "output_type": "stream",
     "text": [
      "/Users/przemyslawmroczek/Projects/studia/PAD/projekt final/results_converter.py:55: DtypeWarning: Columns (35,36,42,43,45,46,47,48,49,50,51,53) have mixed types. Specify dtype option on import or set low_memory=False.\n",
      "  df = pd.read_csv(file_path)\n"
     ]
    },
    {
     "name": "stdout",
     "output_type": "stream",
     "text": [
      "Saved 224234 games to data/games2/ECU_games.csv\n",
      "Converting results for GER...\n"
     ]
    },
    {
     "name": "stderr",
     "output_type": "stream",
     "text": [
      "/Users/przemyslawmroczek/Projects/studia/PAD/projekt final/results_converter.py:55: DtypeWarning: Columns (13,14,15,16,17,18,19,45,46,47,48,49,50,51,52,53,54,55,56,57,58,59,60,61,62,63,64,65,66) have mixed types. Specify dtype option on import or set low_memory=False.\n",
      "  df = pd.read_csv(file_path)\n"
     ]
    },
    {
     "name": "stdout",
     "output_type": "stream",
     "text": [
      "Loaded 148388 rows from data/results/GER_results.csv\n",
      "Saved 489049 games to data/games2/GER_games.csv\n",
      "Converting results for CCA...\n",
      "Loaded 440 rows from data/results/CCA_results.csv\n",
      "Saved 1584 games to data/games2/CCA_games.csv\n",
      "Converting results for AFG...\n",
      "Loaded 3048 rows from data/results/AFG_results.csv\n",
      "Saved 10796 games to data/games2/AFG_games.csv\n",
      "Converting results for GEQ...\n",
      "Loaded 81 rows from data/results/GEQ_results.csv\n",
      "Saved 266 games to data/games2/GEQ_games.csv\n",
      "Converting results for AZE...\n"
     ]
    },
    {
     "name": "stderr",
     "output_type": "stream",
     "text": [
      "/Users/przemyslawmroczek/Projects/studia/PAD/projekt final/results_converter.py:55: DtypeWarning: Columns (31,34,36,37,38,39,40,41,42,43,44,45,46,47,48,49,50) have mixed types. Specify dtype option on import or set low_memory=False.\n",
      "  df = pd.read_csv(file_path)\n"
     ]
    },
    {
     "name": "stdout",
     "output_type": "stream",
     "text": [
      "Loaded 255559 rows from data/results/AZE_results.csv\n",
      "Saved 963329 games to data/games2/AZE_games.csv\n",
      "Converting results for AHO...\n",
      "Loaded 2854 rows from data/results/AHO_results.csv\n",
      "Saved 9112 games to data/games2/AHO_games.csv\n",
      "Converting results for BHU...\n",
      "Loaded 292 rows from data/results/BHU_results.csv\n",
      "Saved 882 games to data/games2/BHU_games.csv\n",
      "Converting results for BUR...\n",
      "Loaded 154 rows from data/results/BUR_results.csv\n",
      "Saved 372 games to data/games2/BUR_games.csv\n",
      "Converting results for COD...\n",
      "Loaded 72 rows from data/results/COD_results.csv\n",
      "Saved 200 games to data/games2/COD_games.csv\n",
      "Converting results for CRC...\n"
     ]
    },
    {
     "name": "stderr",
     "output_type": "stream",
     "text": [
      "/Users/przemyslawmroczek/Projects/studia/PAD/projekt final/results_converter.py:55: DtypeWarning: Columns (2,17,18,19,29,30,31,32,35,37,39,41,42,43,44,45,46,47,48) have mixed types. Specify dtype option on import or set low_memory=False.\n",
      "  df = pd.read_csv(file_path)\n"
     ]
    },
    {
     "name": "stdout",
     "output_type": "stream",
     "text": [
      "Loaded 49179 rows from data/results/CRC_results.csv\n",
      "Saved 144265 games to data/games2/CRC_games.csv\n",
      "Converting results for BEL...\n",
      "Loaded 3767 rows from data/results/BEL_results.csv\n",
      "Saved 12208 games to data/games2/BEL_games.csv\n",
      "Converting results for ARM...\n"
     ]
    },
    {
     "name": "stderr",
     "output_type": "stream",
     "text": [
      "/Users/przemyslawmroczek/Projects/studia/PAD/projekt final/results_converter.py:55: DtypeWarning: Columns (22,23,24,25,26,27,28,29,30,31) have mixed types. Specify dtype option on import or set low_memory=False.\n",
      "  df = pd.read_csv(file_path)\n"
     ]
    },
    {
     "name": "stdout",
     "output_type": "stream",
     "text": [
      "Loaded 243198 rows from data/results/ARM_results.csv\n",
      "Saved 982771 games to data/games2/ARM_games.csv\n",
      "Converting results for GHA...\n",
      "Loaded 1689 rows from data/results/GHA_results.csv\n",
      "Saved 4805 games to data/games2/GHA_games.csv\n",
      "Converting results for BLR...\n"
     ]
    },
    {
     "name": "stderr",
     "output_type": "stream",
     "text": [
      "/Users/przemyslawmroczek/Projects/studia/PAD/projekt final/results_converter.py:55: DtypeWarning: Columns (33,34,35,36,37,46,47,50,51,52,53,54,55) have mixed types. Specify dtype option on import or set low_memory=False.\n",
      "  df = pd.read_csv(file_path)\n"
     ]
    },
    {
     "name": "stdout",
     "output_type": "stream",
     "text": [
      "Loaded 79201 rows from data/results/BLR_results.csv\n",
      "Saved 331022 games to data/games2/BLR_games.csv\n",
      "Converting results for ESA...\n",
      "Loaded 23532 rows from data/results/ESA_results.csv\n"
     ]
    },
    {
     "name": "stderr",
     "output_type": "stream",
     "text": [
      "/Users/przemyslawmroczek/Projects/studia/PAD/projekt final/results_converter.py:55: DtypeWarning: Columns (26,27,39,41,42,43,44) have mixed types. Specify dtype option on import or set low_memory=False.\n",
      "  df = pd.read_csv(file_path)\n"
     ]
    },
    {
     "name": "stdout",
     "output_type": "stream",
     "text": [
      "Saved 71553 games to data/games2/ESA_games.csv\n",
      "Converting results for BAN...\n",
      "Loaded 27451 rows from data/results/BAN_results.csv\n"
     ]
    },
    {
     "name": "stderr",
     "output_type": "stream",
     "text": [
      "/Users/przemyslawmroczek/Projects/studia/PAD/projekt final/results_converter.py:55: DtypeWarning: Columns (19,20,35,45,46) have mixed types. Specify dtype option on import or set low_memory=False.\n",
      "  df = pd.read_csv(file_path)\n"
     ]
    },
    {
     "name": "stdout",
     "output_type": "stream",
     "text": [
      "Saved 87800 games to data/games2/BAN_games.csv\n",
      "Converting results for CHA...\n",
      "Loaded 76 rows from data/results/CHA_results.csv\n",
      "Saved 278 games to data/games2/CHA_games.csv\n",
      "Converting results for DEN...\n",
      "Loaded 6103 rows from data/results/DEN_results.csv\n",
      "Saved 24080 games to data/games2/DEN_games.csv\n",
      "Converting results for FIJ...\n",
      "Loaded 2018 rows from data/results/FIJ_results.csv\n",
      "Saved 7224 games to data/games2/FIJ_games.csv\n",
      "Converting results for BRA...\n"
     ]
    },
    {
     "name": "stderr",
     "output_type": "stream",
     "text": [
      "/Users/przemyslawmroczek/Projects/studia/PAD/projekt final/results_converter.py:55: DtypeWarning: Columns (20,21,31,32,33,37,40,44,45,46,47,48,49,50,52,53,54,55,56,57,58,59,60,61,62,63,64,65,66) have mixed types. Specify dtype option on import or set low_memory=False.\n",
      "  df = pd.read_csv(file_path)\n"
     ]
    },
    {
     "name": "stdout",
     "output_type": "stream",
     "text": [
      "Loaded 512817 rows from data/results/BRA_results.csv\n",
      "Saved 1356567 games to data/games2/BRA_games.csv\n",
      "Converting results for DOM...\n"
     ]
    },
    {
     "name": "stderr",
     "output_type": "stream",
     "text": [
      "/Users/przemyslawmroczek/Projects/studia/PAD/projekt final/results_converter.py:55: DtypeWarning: Columns (33,34,35,42,43,44,48,50,51,52,53) have mixed types. Specify dtype option on import or set low_memory=False.\n",
      "  df = pd.read_csv(file_path)\n"
     ]
    },
    {
     "name": "stdout",
     "output_type": "stream",
     "text": [
      "Loaded 40577 rows from data/results/DOM_results.csv\n",
      "Saved 115837 games to data/games2/DOM_games.csv\n",
      "Converting results for ETH...\n",
      "Loaded 3704 rows from data/results/ETH_results.csv\n",
      "Saved 14191 games to data/games2/ETH_games.csv\n",
      "Converting results for CRO...\n"
     ]
    },
    {
     "name": "stderr",
     "output_type": "stream",
     "text": [
      "/Users/przemyslawmroczek/Projects/studia/PAD/projekt final/results_converter.py:55: DtypeWarning: Columns (16,17,24,43,44,45,46,47,48,49,50,51,52,53,56,57,58,59,60,61,62,63,64,65,66) have mixed types. Specify dtype option on import or set low_memory=False.\n",
      "  df = pd.read_csv(file_path)\n"
     ]
    },
    {
     "name": "stdout",
     "output_type": "stream",
     "text": [
      "Loaded 173174 rows from data/results/CRO_results.csv\n",
      "Saved 603753 games to data/games2/CRO_games.csv\n",
      "Converting results for BDI...\n",
      "Loaded 769 rows from data/results/BDI_results.csv\n",
      "Saved 2319 games to data/games2/BDI_games.csv\n",
      "Converting results for FRA...\n",
      "Loaded 8723 rows from data/results/FRA_results.csv\n",
      "Saved 30629 games to data/games2/FRA_games.csv\n",
      "Converting results for CAN...\n"
     ]
    },
    {
     "name": "stderr",
     "output_type": "stream",
     "text": [
      "/Users/przemyslawmroczek/Projects/studia/PAD/projekt final/results_converter.py:55: DtypeWarning: Columns (18,20,21,25,26,27,43,44,45,46,47,48,51,52,53,54,55,56,57,58,59,60,61) have mixed types. Specify dtype option on import or set low_memory=False.\n",
      "  df = pd.read_csv(file_path)\n"
     ]
    },
    {
     "name": "stdout",
     "output_type": "stream",
     "text": [
      "Loaded 67164 rows from data/results/CAN_results.csv\n",
      "Saved 189553 games to data/games2/CAN_games.csv\n",
      "Converting results for CZE...\n"
     ]
    },
    {
     "name": "stderr",
     "output_type": "stream",
     "text": [
      "/Users/przemyslawmroczek/Projects/studia/PAD/projekt final/results_converter.py:55: DtypeWarning: Columns (21,22,23,28,29,30,31,32,33,34,35,36,39,40,41,42,43,44,45,46,47,48,49,50,51,52,53,54,55,56,57,58,59,60,61,62,63,64,65,66) have mixed types. Specify dtype option on import or set low_memory=False.\n",
      "  df = pd.read_csv(file_path)\n"
     ]
    },
    {
     "name": "stdout",
     "output_type": "stream",
     "text": [
      "Loaded 639337 rows from data/results/CZE_results.csv\n",
      "Saved 2222191 games to data/games2/CZE_games.csv\n",
      "Converting results for ESP...\n"
     ]
    },
    {
     "name": "stderr",
     "output_type": "stream",
     "text": [
      "/Users/przemyslawmroczek/Projects/studia/PAD/projekt final/results_converter.py:55: DtypeWarning: Columns (25,26,28,29,39,42,43,44,45,47,48,49,50,51,52,53,54,55,56,57,58,59,60,61) have mixed types. Specify dtype option on import or set low_memory=False.\n",
      "  df = pd.read_csv(file_path)\n"
     ]
    },
    {
     "name": "stdout",
     "output_type": "stream",
     "text": [
      "Loaded 922511 rows from data/results/ESP_results.csv\n",
      "Saved 2898202 games to data/games2/ESP_games.csv\n",
      "Converting results for FID...\n"
     ]
    },
    {
     "name": "stderr",
     "output_type": "stream",
     "text": [
      "/Users/przemyslawmroczek/Projects/studia/PAD/projekt final/results_converter.py:55: DtypeWarning: Columns (53,54) have mixed types. Specify dtype option on import or set low_memory=False.\n",
      "  df = pd.read_csv(file_path)\n"
     ]
    },
    {
     "name": "stdout",
     "output_type": "stream",
     "text": [
      "Loaded 32077 rows from data/results/FID_results.csv\n",
      "Saved 122198 games to data/games2/FID_games.csv\n",
      "Converting results for FAI...\n",
      "Loaded 5568 rows from data/results/FAI_results.csv\n",
      "Saved 17383 games to data/games2/FAI_games.csv\n",
      "Converting results for ARU...\n",
      "Loaded 1433 rows from data/results/ARU_results.csv\n",
      "Saved 3926 games to data/games2/ARU_games.csv\n",
      "Converting results for ---...\n",
      "Loaded 9 rows from data/results/---_results.csv\n",
      "Saved 24 games to data/games2/---_games.csv\n",
      "Converting results for GCI...\n",
      "Loaded 861 rows from data/results/GCI_results.csv\n",
      "Saved 2789 games to data/games2/GCI_games.csv\n",
      "Converting results for CMR...\n",
      "Loaded 713 rows from data/results/CMR_results.csv\n",
      "Saved 1779 games to data/games2/CMR_games.csv\n",
      "Converting results for BEN...\n",
      "Loaded 494 rows from data/results/BEN_results.csv\n",
      "Saved 1607 games to data/games2/BEN_games.csv\n",
      "Converting results for BRU...\n",
      "Loaded 1604 rows from data/results/BRU_results.csv\n",
      "Saved 6702 games to data/games2/BRU_games.csv\n",
      "Converting results for GAB...\n",
      "Loaded 203 rows from data/results/GAB_results.csv\n",
      "Saved 756 games to data/games2/GAB_games.csv\n",
      "Converting results for AND...\n",
      "Loaded 3797 rows from data/results/AND_results.csv\n",
      "Saved 14638 games to data/games2/AND_games.csv\n",
      "Converting results for CAT...\n"
     ]
    },
    {
     "name": "stderr",
     "output_type": "stream",
     "text": [
      "/Users/przemyslawmroczek/Projects/studia/PAD/projekt final/results_converter.py:55: DtypeWarning: Columns (41,42,43,44,45,46,49,50,51,52,53,54,55,56,57,58,59,60,61) have mixed types. Specify dtype option on import or set low_memory=False.\n",
      "  df = pd.read_csv(file_path)\n"
     ]
    },
    {
     "name": "stdout",
     "output_type": "stream",
     "text": [
      "Loaded 125449 rows from data/results/CAT_results.csv\n",
      "Saved 433680 games to data/games2/CAT_games.csv\n",
      "Converting results for BIH...\n",
      "Loaded 46852 rows from data/results/BIH_results.csv\n"
     ]
    },
    {
     "name": "stderr",
     "output_type": "stream",
     "text": [
      "/Users/przemyslawmroczek/Projects/studia/PAD/projekt final/results_converter.py:55: DtypeWarning: Columns (47,52,53,54,55,57,58,59) have mixed types. Specify dtype option on import or set low_memory=False.\n",
      "  df = pd.read_csv(file_path)\n"
     ]
    },
    {
     "name": "stdout",
     "output_type": "stream",
     "text": [
      "Saved 158104 games to data/games2/BIH_games.csv\n",
      "Converting results for CHI...\n"
     ]
    },
    {
     "name": "stderr",
     "output_type": "stream",
     "text": [
      "/Users/przemyslawmroczek/Projects/studia/PAD/projekt final/results_converter.py:55: DtypeWarning: Columns (22,29,35,38,39,40,41,42,43,44,45,48,49,50,51,52,53,54,55,56) have mixed types. Specify dtype option on import or set low_memory=False.\n",
      "  df = pd.read_csv(file_path)\n"
     ]
    },
    {
     "name": "stdout",
     "output_type": "stream",
     "text": [
      "Loaded 217402 rows from data/results/CHI_results.csv\n",
      "Saved 584929 games to data/games2/CHI_games.csv\n",
      "Converting results for AUS...\n",
      "Loaded 10342 rows from data/results/AUS_results.csv\n",
      "Saved 40476 games to data/games2/AUS_games.csv\n",
      "Converting results for BER...\n",
      "Loaded 371 rows from data/results/BER_results.csv\n",
      "Saved 793 games to data/games2/BER_games.csv\n",
      "Converting results for ANG...\n",
      "Loaded 12522 rows from data/results/ANG_results.csv\n",
      "Saved 46737 games to data/games2/ANG_games.csv\n",
      "Converting results for EGY...\n"
     ]
    },
    {
     "name": "stderr",
     "output_type": "stream",
     "text": [
      "/Users/przemyslawmroczek/Projects/studia/PAD/projekt final/results_converter.py:55: DtypeWarning: Columns (17,32,33,41,43,44,45,46,47,48,49,50,51,52) have mixed types. Specify dtype option on import or set low_memory=False.\n",
      "  df = pd.read_csv(file_path)\n"
     ]
    },
    {
     "name": "stdout",
     "output_type": "stream",
     "text": [
      "Loaded 83148 rows from data/results/EGY_results.csv\n",
      "Saved 323663 games to data/games2/EGY_games.csv\n",
      "Converting results for ENG...\n"
     ]
    },
    {
     "name": "stderr",
     "output_type": "stream",
     "text": [
      "/Users/przemyslawmroczek/Projects/studia/PAD/projekt final/results_converter.py:55: DtypeWarning: Columns (3,7,23,36,37,38,39,40,47,48,49,50,51,52,53,54,57,58,59) have mixed types. Specify dtype option on import or set low_memory=False.\n",
      "  df = pd.read_csv(file_path)\n"
     ]
    },
    {
     "name": "stdout",
     "output_type": "stream",
     "text": [
      "Loaded 176494 rows from data/results/ENG_results.csv\n",
      "Saved 498171 games to data/games2/ENG_games.csv\n",
      "Converting results for CPV...\n",
      "Loaded 716 rows from data/results/CPV_results.csv\n",
      "Saved 1622 games to data/games2/CPV_games.csv\n",
      "Converting results for CIV...\n",
      "Loaded 2608 rows from data/results/CIV_results.csv\n",
      "Saved 8448 games to data/games2/CIV_games.csv\n",
      "Converting results for BOT...\n",
      "Loaded 22821 rows from data/results/BOT_results.csv\n"
     ]
    },
    {
     "name": "stderr",
     "output_type": "stream",
     "text": [
      "/Users/przemyslawmroczek/Projects/studia/PAD/projekt final/results_converter.py:55: DtypeWarning: Columns (39,40,41) have mixed types. Specify dtype option on import or set low_memory=False.\n",
      "  df = pd.read_csv(file_path)\n"
     ]
    },
    {
     "name": "stdout",
     "output_type": "stream",
     "text": [
      "Saved 78840 games to data/games2/BOT_games.csv\n",
      "Converting results for CUB...\n",
      "Loaded 13442 rows from data/results/CUB_results.csv\n",
      "Saved 39963 games to data/games2/CUB_games.csv\n",
      "Converting results for BUL...\n"
     ]
    },
    {
     "name": "stderr",
     "output_type": "stream",
     "text": [
      "/Users/przemyslawmroczek/Projects/studia/PAD/projekt final/results_converter.py:55: DtypeWarning: Columns (17,18,36,37,40,41,42,43,44,45,46,47,48,49,50,53,54,55) have mixed types. Specify dtype option on import or set low_memory=False.\n",
      "  df = pd.read_csv(file_path)\n"
     ]
    },
    {
     "name": "stdout",
     "output_type": "stream",
     "text": [
      "Loaded 138660 rows from data/results/BUL_results.csv\n",
      "Saved 462854 games to data/games2/BUL_games.csv\n",
      "Converting results for GAM...\n",
      "Loaded 80 rows from data/results/GAM_results.csv\n",
      "Saved 155 games to data/games2/GAM_games.csv\n",
      "Converting results for COL...\n"
     ]
    },
    {
     "name": "stderr",
     "output_type": "stream",
     "text": [
      "/Users/przemyslawmroczek/Projects/studia/PAD/projekt final/results_converter.py:55: DtypeWarning: Columns (18,26,27,33,34,35,36,37,40,47,50,51,52,53,54,55,56,57,58,59,60,61) have mixed types. Specify dtype option on import or set low_memory=False.\n",
      "  df = pd.read_csv(file_path)\n"
     ]
    },
    {
     "name": "stdout",
     "output_type": "stream",
     "text": [
      "Loaded 304049 rows from data/results/COL_results.csv\n",
      "Saved 944421 games to data/games2/COL_games.csv\n",
      "Converting results for GEO...\n"
     ]
    },
    {
     "name": "stderr",
     "output_type": "stream",
     "text": [
      "/Users/przemyslawmroczek/Projects/studia/PAD/projekt final/results_converter.py:55: DtypeWarning: Columns (29,30,41,42,43,44,45,46,47,48,49,50) have mixed types. Specify dtype option on import or set low_memory=False.\n",
      "  df = pd.read_csv(file_path)\n"
     ]
    },
    {
     "name": "stdout",
     "output_type": "stream",
     "text": [
      "Loaded 101778 rows from data/results/GEO_results.csv\n",
      "Saved 361538 games to data/games2/GEO_games.csv\n",
      "Converting results for CAM...\n",
      "Loaded 374 rows from data/results/CAM_results.csv\n",
      "Saved 1047 games to data/games2/CAM_games.csv\n",
      "Converting results for ANT...\n",
      "Loaded 197 rows from data/results/ANT_results.csv\n",
      "Saved 816 games to data/games2/ANT_games.csv\n",
      "Converting results for FIN...\n"
     ]
    },
    {
     "name": "stderr",
     "output_type": "stream",
     "text": [
      "/Users/przemyslawmroczek/Projects/studia/PAD/projekt final/results_converter.py:55: DtypeWarning: Columns (50,51,52,53,54,55,59,61,62) have mixed types. Specify dtype option on import or set low_memory=False.\n",
      "  df = pd.read_csv(file_path)\n"
     ]
    },
    {
     "name": "stdout",
     "output_type": "stream",
     "text": [
      "Loaded 44188 rows from data/results/FIN_results.csv\n",
      "Saved 101242 games to data/games2/FIN_games.csv\n"
     ]
    }
   ],
   "source": [
    "from results_converter import ResultsConverter\n",
    "converter = ResultsConverter(\n",
    "    results_folder=\"data/results\",\n",
    "    games_folder=\"data/games2\"\n",
    ")\n",
    "converter.convert_all_results()"
   ]
  },
  {
   "cell_type": "markdown",
   "metadata": {},
   "source": [
    "Weryfikacja wyników, czy dobrze generujemy gry"
   ]
  },
  {
   "cell_type": "code",
   "execution_count": 7,
   "metadata": {},
   "outputs": [
    {
     "data": {
      "text/html": [
       "<div>\n",
       "<style scoped>\n",
       "    .dataframe tbody tr th:only-of-type {\n",
       "        vertical-align: middle;\n",
       "    }\n",
       "\n",
       "    .dataframe tbody tr th {\n",
       "        vertical-align: top;\n",
       "    }\n",
       "\n",
       "    .dataframe thead th {\n",
       "        text-align: right;\n",
       "    }\n",
       "</style>\n",
       "<table border=\"1\" class=\"dataframe\">\n",
       "  <thead>\n",
       "    <tr style=\"text-align: right;\">\n",
       "      <th></th>\n",
       "      <th>Round</th>\n",
       "      <th>WhiteStartNumber</th>\n",
       "      <th>WhiteFed</th>\n",
       "      <th>WhiteName</th>\n",
       "      <th>WhiteRating</th>\n",
       "      <th>BlackStartNumber</th>\n",
       "      <th>BlackFed</th>\n",
       "      <th>BlackName</th>\n",
       "      <th>BlackRating</th>\n",
       "      <th>Result</th>\n",
       "      <th>tournament_url</th>\n",
       "    </tr>\n",
       "  </thead>\n",
       "  <tbody>\n",
       "    <tr>\n",
       "      <th>0</th>\n",
       "      <td>1</td>\n",
       "      <td>8</td>\n",
       "      <td>IRQ</td>\n",
       "      <td>A-Ali Sali Abbas Abdulzahra</td>\n",
       "      <td>1818.0</td>\n",
       "      <td>24</td>\n",
       "      <td>ALG</td>\n",
       "      <td>Ziane Berroudja Ahmed</td>\n",
       "      <td>0.0</td>\n",
       "      <td>0-1</td>\n",
       "      <td>tnr792667.aspx?lan=3</td>\n",
       "    </tr>\n",
       "    <tr>\n",
       "      <th>1</th>\n",
       "      <td>1</td>\n",
       "      <td>6</td>\n",
       "      <td>ALG</td>\n",
       "      <td>ABBA Linda</td>\n",
       "      <td>0.0</td>\n",
       "      <td>14</td>\n",
       "      <td>ALG</td>\n",
       "      <td>Derdour Mohamed</td>\n",
       "      <td>0.0</td>\n",
       "      <td>1-0</td>\n",
       "      <td>tnr138822.aspx?lan=3</td>\n",
       "    </tr>\n",
       "    <tr>\n",
       "      <th>2</th>\n",
       "      <td>1</td>\n",
       "      <td>8</td>\n",
       "      <td>ALG</td>\n",
       "      <td>ABBA Lyes</td>\n",
       "      <td>0.0</td>\n",
       "      <td>25</td>\n",
       "      <td>ALG</td>\n",
       "      <td>Zulbati Petrello Samy</td>\n",
       "      <td>0.0</td>\n",
       "      <td>0-1</td>\n",
       "      <td>tnr138823.aspx?lan=3</td>\n",
       "    </tr>\n",
       "    <tr>\n",
       "      <th>3</th>\n",
       "      <td>1</td>\n",
       "      <td>3</td>\n",
       "      <td>ALG</td>\n",
       "      <td>ABBA Lyes</td>\n",
       "      <td>0.0</td>\n",
       "      <td>11</td>\n",
       "      <td>ALG</td>\n",
       "      <td>Bouazizi Ahmed Nazim</td>\n",
       "      <td>0.0</td>\n",
       "      <td>0-1</td>\n",
       "      <td>tnr104397.aspx?lan=3</td>\n",
       "    </tr>\n",
       "    <tr>\n",
       "      <th>4</th>\n",
       "      <td>1</td>\n",
       "      <td>2</td>\n",
       "      <td>EST</td>\n",
       "      <td>ABBOU  Jugurtha</td>\n",
       "      <td>1830.0</td>\n",
       "      <td>19</td>\n",
       "      <td>ALG</td>\n",
       "      <td>Mekhebet Dania</td>\n",
       "      <td>0.0</td>\n",
       "      <td>1-0</td>\n",
       "      <td>tnr218101.aspx?lan=3</td>\n",
       "    </tr>\n",
       "  </tbody>\n",
       "</table>\n",
       "</div>"
      ],
      "text/plain": [
       "   Round  WhiteStartNumber WhiteFed                    WhiteName  WhiteRating  \\\n",
       "0      1                 8      IRQ  A-Ali Sali Abbas Abdulzahra       1818.0   \n",
       "1      1                 6      ALG                   ABBA Linda          0.0   \n",
       "2      1                 8      ALG                    ABBA Lyes          0.0   \n",
       "3      1                 3      ALG                    ABBA Lyes          0.0   \n",
       "4      1                 2      EST              ABBOU  Jugurtha       1830.0   \n",
       "\n",
       "   BlackStartNumber BlackFed              BlackName  BlackRating Result  \\\n",
       "0                24      ALG  Ziane Berroudja Ahmed          0.0    0-1   \n",
       "1                14      ALG        Derdour Mohamed          0.0    1-0   \n",
       "2                25      ALG  Zulbati Petrello Samy          0.0    0-1   \n",
       "3                11      ALG   Bouazizi Ahmed Nazim          0.0    0-1   \n",
       "4                19      ALG         Mekhebet Dania          0.0    1-0   \n",
       "\n",
       "         tournament_url  \n",
       "0  tnr792667.aspx?lan=3  \n",
       "1  tnr138822.aspx?lan=3  \n",
       "2  tnr138823.aspx?lan=3  \n",
       "3  tnr104397.aspx?lan=3  \n",
       "4  tnr218101.aspx?lan=3  "
      ]
     },
     "metadata": {},
     "output_type": "display_data"
    },
    {
     "data": {
      "text/plain": [
       "(180482, 11)"
      ]
     },
     "metadata": {},
     "output_type": "display_data"
    }
   ],
   "source": [
    "import pandas as pd # type: ignore\n",
    "\n",
    "df = pd.read_csv(\"data/games2/ALG_games.csv\")\n",
    "display(df.head())\n",
    "display(df.shape)"
   ]
  },
  {
   "cell_type": "markdown",
   "metadata": {},
   "source": [
    "# Rezultaty scrapingu\n",
    "- Ponad 5GB danych\n",
    "- Github nie pozwala mi tyle plików trzymać\n",
    "- Tymczasowo wyniki trzymane na kaggle https://www.kaggle.com/datasets/pmroczek/chess-results-over-17m-otb-games\n",
    "- Obcinam dane dla łatwiejszej pracy i lepszego sprawdzania, ale na koniec trochę statystyk:"
   ]
  },
  {
   "cell_type": "code",
   "execution_count": 8,
   "metadata": {},
   "outputs": [],
   "source": [
    "import os\n",
    "import pandas as pd\n",
    "\n",
    "games_folder = \"data/games2\"\n",
    "\n",
    "games_df = pd.DataFrame()\n",
    "\n",
    "\n",
    "for file in os.listdir(games_folder):\n",
    "    if file.endswith(\".csv\"):\n",
    "       games_df = pd.concat([games_df, pd.read_csv(os.path.join(games_folder, file))])\n",
    "\n",
    "\n",
    "games_df.to_csv(\"data/games2/all_games.csv\", index=False)\n"
   ]
  },
  {
   "cell_type": "code",
   "execution_count": 1,
   "metadata": {},
   "outputs": [
    {
     "ename": "NameError",
     "evalue": "name 'games_df' is not defined",
     "output_type": "error",
     "traceback": [
      "\u001b[0;31m---------------------------------------------------------------------------\u001b[0m",
      "\u001b[0;31mNameError\u001b[0m                                 Traceback (most recent call last)",
      "Cell \u001b[0;32mIn[1], line 1\u001b[0m\n\u001b[0;32m----> 1\u001b[0m \u001b[38;5;28mprint\u001b[39m(\u001b[38;5;124mf\u001b[39m\u001b[38;5;124m\"\u001b[39m\u001b[38;5;124mTotal number of games: \u001b[39m\u001b[38;5;132;01m{\u001b[39;00m\u001b[38;5;28mlen\u001b[39m(\u001b[43mgames_df\u001b[49m)\u001b[38;5;132;01m}\u001b[39;00m\u001b[38;5;124m\"\u001b[39m)\n\u001b[1;32m      2\u001b[0m display(games_df\u001b[38;5;241m.\u001b[39mtail())\n\u001b[1;32m      3\u001b[0m display(games_df\u001b[38;5;241m.\u001b[39mshape)\n",
      "\u001b[0;31mNameError\u001b[0m: name 'games_df' is not defined"
     ]
    }
   ],
   "source": [
    "print(f\"Total number of games: {len(games_df)}\")\n",
    "display(games_df.head())\n",
    "display(games_df.shape)\n",
    "display(games_df.describe())"
   ]
  }
 ],
 "metadata": {
  "kernelspec": {
   "display_name": "Python 3",
   "language": "python",
   "name": "python3"
  },
  "language_info": {
   "codemirror_mode": {
    "name": "ipython",
    "version": 3
   },
   "file_extension": ".py",
   "mimetype": "text/x-python",
   "name": "python",
   "nbconvert_exporter": "python",
   "pygments_lexer": "ipython3",
   "version": "3.11.11"
  }
 },
 "nbformat": 4,
 "nbformat_minor": 2
}
